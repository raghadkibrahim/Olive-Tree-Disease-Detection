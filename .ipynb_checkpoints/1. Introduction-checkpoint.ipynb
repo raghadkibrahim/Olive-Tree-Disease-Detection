{
 "cells": [
  {
   "cell_type": "markdown",
   "id": "d2a7b7b6-48b8-440d-a7bb-0898cd28f741",
   "metadata": {
    "tags": []
   },
   "source": [
    "<h1 style=\"font-size:160%; text-align:center;\">OLIVE TREE DISEASE DETECTION</h1>\n",
    "\n",
    "<HR WIDTH=\"40%\" ALIGN=CENTER>\n",
    "\n",
    "<center><b>Author:</b> Raghad Ibrahim <br>\n",
    "<b>Date:</b> April 2, 2024 <br>\n",
    "<b>Topic:</b> Olive Trees Disease Diagnostics  </center>\n",
    "    <HR WIDTH=\"40%\" ALIGN=CENTER>\n",
    "\n",
    "<center><b>Abstract</b></center><br>\n",
    "\n",
    " The Olive Tree, an ancient symbol of peace and endurance, holds significant cultural and agricultural importance across the Mediterranean region and beyond. The production of olive oil is facing a significant threat nowadays due to climate change and the spread of diseases. This project explores the application of computer vision techniques for the analysis and classification of leaf images to identify potential diseases or health issues. The dataset used in this paper consists of images of leaves from three classes: healthy leaves, leaves infected with Aculus Olearius disease, and leaves affected by Peacock Spot disease. The goal is to develop an image classification model capable of accurately distinguishing between these classes based on features extracted from the images. Overall, this project aims to contribute to the field of agricultural diagnostics by providing a reliable tool for automated detection and classification of leaf diseases.\n",
    "\n"
   ]
  },
  {
   "cell_type": "markdown",
   "id": "5d398371-c362-418b-a47e-68947e77d719",
   "metadata": {
    "tags": []
   },
   "source": [
    "### Table of Content"
   ]
  },
  {
   "cell_type": "markdown",
   "id": "92b352be-2d10-4e94-984e-ca87bc06c771",
   "metadata": {
    "tags": []
   },
   "source": [
    "<i><p style=\"border-width:2px; border-style:solid; border-color:#808080; padding: 0.5em;text-align:left;\">PART I: Project Overview</p></i>\n",
    "\n",
    "> **1. [Introduction](#intro)**\n",
    "\t> > 1.1. [Literature Review](#1.1)\n",
    ">\n",
    "<i><p style=\"border-width:2px; border-style:solid; border-color:#808080; padding: 0.5em;text-align:left;\">PART II: Data Analysis</p></i>\n",
    "> \n",
    "> **2. [Methodology](#methodology)**\n",
    "\t> > 2.1 [Approach](#2.1)   \n",
    "\t> > 2.2 [Dataset](#2.2)     \n",
    "\t> > 2.3 [Dependencies](#2.3)   \n",
    "\t> > 2.4 [Getting Started](#2.4)\n",
    ">\n",
    "> **3. [Data Preprocessing](#preprocessing)**\n",
    "\t> > 3.1 [A First Look At The Data](#3.1)  \n",
    "\t> > 3.2 [Identifying Image Imbalance](#3.2)  \n",
    "\t> > 3.3 [Plotting Image Size](#3.3)     \n",
    ">\n",
    "> **4. [Exploratory Data Analysis](#eda)**   \n",
    "> > 4.1. [Orientation](#4.1)  \n",
    "> > 4.2. [RGB Channels](#4.2)  \n",
    ">\n",
    "> **5. [Modeling and Evaluation](#model_eval)**\n",
    ">\n",
    "<i><p style=\"border-width:2px; border-style:solid; border-color:#808080; padding: 0.5em;text-align:left;\">PART III: Findings</p></i>\n",
    "> \n",
    "> **6. [Discussion](#discussion)**  \n",
    "    </font>"
   ]
  },
  {
   "attachments": {},
   "cell_type": "markdown",
   "id": "4784176e-6d70-40b3-87f0-2387ccde0cc5",
   "metadata": {},
   "source": [
    "<hr>\n",
    "\n",
    "*PART I: Project Overview* \n",
    "<a id='intro'></a>\n",
    "## Introduction\n",
    "\n",
    "<p  style=\"text-indent: 25px;\">  Olive trees are suseptible to getting sick with some diseases that could affect a tree's health and its ability to produce olives, which makes it very important for farmers to be able to catch these conditions early on to address them before harvesting season.  These conditions include diseases like Aculus Olearius which is caused by mites and causes leaf discoloration, as well as Peacock Spot Disease which causes dark spots on an olive leaf. More details about the symptoms and causes of these two diseases will be provided in the next section.</p>\n",
    "\n",
    "<p  style=\"text-indent: 25px;\">  Most farmers rely on traditional techniques, such as visual observation, or biological tests and fungal analysis, to detect these diseases. However, these methods require significant expertise and resources, including time. Hence, increasing the efficiency of the process of detecting and diagnosing olive trees becomes imperative to save as many trees as possible. The potential for improving disease diagnostics lies in developing effective alternatives to traditional plant disease identification methods, including those for olive trees. We can utilize technological advancements in machine learning and deep learning to facilitate precise disease identification through data and image analysis.</p>\n",
    "\n"
   ]
  },
  {
   "cell_type": "markdown",
   "id": "4ae2bbe6-a239-41de-8723-9145b551ef5d",
   "metadata": {},
   "source": [
    "<a id='1.1'></a>\n",
    "### Literature Review\n",
    "\n",
    "Aculus Olearius is a disease caused by Aceria Oleae, a mite that belongs to eriophyid mites. This barely visible mite is a worm-like mite with circular cross section which dimensions are in the micrometers range, yet its microscopic size doesn't stop it from inflicting great harm to olive trees as it is the main pest found in olive trees in the Mediterranean region. Cases of this condition were reported in Palestine, Egypt, Tunisia, and Turkey. The mite feeds on the growing points in the leaves, thus causing deformations in the way a leaf grows. Therefore younger trees tend to be more vulnerable to these brutal attacks. The pest may even kill the productive center for the plant significantly inhibiting its growth. \n",
    "\n",
    "Peacock Spot Disease is another common fungal disease that affects olive trees. It is caused by the fungus Spilocaea oleagina, but took its named from its distinctive peacock feather-like spots that appear on the leaves of an infected tree. These spots are usually dark, circular, and have a yellow halo around them, making them quite noticeable against the green of the olive leaves. These can lead to premature leaf drop, weakening the tree over time. With the tree being infected, its ability to photosynthesize is practically diminished inhibiting its ability to grow fruits and can spread quickly to other trees.\n",
    "\n",
    "In both cases we can see why an early diagnosis is ablsolutely crucial to a farmer. \n"
   ]
  },
  {
   "attachments": {},
   "cell_type": "markdown",
   "id": "30c0ce45-0692-486e-9d2d-2f5c78847b02",
   "metadata": {},
   "source": [
    " <hr>   \n",
    "\t\n",
    " *PART II: Data Analysis* \n",
    "\n",
    "<a id='methodology'></a>\n",
    "## Methodology "
   ]
  },
  {
   "cell_type": "markdown",
   "id": "74c4d084-a69c-47bf-999c-66c161fe215b",
   "metadata": {},
   "source": [
    "<a id='2.2'></a>\n",
    "### Dataset\n",
    "\n",
    "For this project I have used a public dataset to build a model that can detect various diseases in Olive leaves. The dataset consists of over 3,400 \n",
    "images of olive leaves collected from Denizli City, Turkey. The images are classified into the following classes:  \n",
    "\n",
    "- Olive Leaves infected with Aculus Olearius.\n",
    "- Olive Leaves infected with Peacock Spot.\n",
    "- Healthy Olive Leaves."
   ]
  },
  {
   "cell_type": "markdown",
   "id": "8d2887a1-966a-411d-8b67-858658708ed3",
   "metadata": {},
   "source": [
    "<a id='2.3'></a>\n",
    "### Dependencies"
   ]
  },
  {
   "cell_type": "markdown",
   "id": "8f03ecd8-4ea7-4c77-959c-2e23b7d8e429",
   "metadata": {},
   "source": [
    "We will start off by importing some basic data analysis libraries such as Pandas, Numpy, Matplotlib, and Seaborn. "
   ]
  },
  {
   "cell_type": "code",
   "execution_count": 6,
   "id": "f8732a29-3840-4911-a6f2-a0b1e6c07169",
   "metadata": {
    "editable": true,
    "slideshow": {
     "slide_type": "slide"
    },
    "tags": []
   },
   "outputs": [],
   "source": [
    "## IMPORT LIBRARIES ##\n",
    "\n",
    "import numpy as np #numpy for \n",
    "\n",
    "import pandas as pd # pandas\n",
    "\n",
    "from matplotlib import pyplot as plt # matplot library\n",
    "#from matplotlib import animation as am\n",
    "import seaborn as sns"
   ]
  },
  {
   "cell_type": "markdown",
   "id": "36589ae1-8cc8-4d5a-81a8-310b1d8740d1",
   "metadata": {},
   "source": [
    "We will also be importing some more libraries specific to images."
   ]
  },
  {
   "cell_type": "code",
   "execution_count": 12,
   "id": "6daa6f2d-1813-42a8-8de6-3a50bd1c4151",
   "metadata": {},
   "outputs": [],
   "source": [
    "## IMPORT LIBRARIES ##\n",
    "\n",
    "import os  \n",
    "from matplotlib import image as mpimg\n",
    "from random import randint\n",
    "from PIL import Image\n",
    "from skimage import io, img_as_float, img_as_ubyte\n",
    "from skimage.io import imread, imshow\n",
    "import cv2\n",
    "from glob import glob\n",
    "from sklearn.decomposition import PCA\n",
    "import warnings \n",
    "warnings.filterwarnings('ignore')\n",
    "\n",
    "##########"
   ]
  },
  {
   "cell_type": "markdown",
   "id": "1ed96526-18c6-4108-bfa7-3bc5080bae36",
   "metadata": {},
   "source": [
    "###  Image Basics\n",
    "#### Pixels\n",
    "In digital imaging, every image is composed of a matrix of pixels, each representing the smallest unit of the image. For instance, an image with dimensions of 600x800 is constructed from 480,000 individual pixels, arranged in a grid of 600 pixels vertically and 800 pixels horizontally. Each pixel is essentially as a tiny square with a specific color, contributing to the overall image when viewed collectively.\n"
   ]
  },
  {
   "attachments": {},
   "cell_type": "markdown",
   "id": "c1efa614-af7b-4bab-8fa3-fad01897b7a7",
   "metadata": {},
   "source": [
    "#### RGB Channels\n",
    "\n",
    "The diversity of colors displayed by these pixels can be described by the RGB Color Model, which is the foundational principle in representing digital images. The RGB Color Model operates on the premise that any visible color is just a precise combination of varying intensities (0 to 255) of red, green, and blue light. Here, a value of 0 denotes the absence of light, resulting in complete darkness, whereas a value of 255 represents the maximum brightness of the color. By adjusting the intensity levels of these three primary colors, the RGB model can generate a wide spectrum of colors, enabling digital devices to reproduce nearly any color perceivable by the human eye.\n",
    "\n",
    "In a digital image, each pixel is assigned a single color, which by the RGB model can be broken down into a precise combination of Red, Green, and Blue. In other words, every pixel, which we consider the row value has three features that can be used as columns. This way we can view each image as a unique dataset whose rows represent the individual pixels and columns represent the unique color combination consisting of the various intensities of Red, Green. amd Blue.."
   ]
  },
  {
   "cell_type": "markdown",
   "id": "6bffc673-5c4c-4a51-ac8e-cf19dc49358f",
   "metadata": {},
   "source": [
    "### Image Analysis"
   ]
  },
  {
   "cell_type": "markdown",
   "id": "c6212b36-05ec-46d8-b2d8-f06bd6eaa135",
   "metadata": {},
   "source": [
    "#### Convolution"
   ]
  },
  {
   "cell_type": "markdown",
   "id": "2000e3f6-65b4-4bd4-a962-58c018cb7b7a",
   "metadata": {},
   "source": [
    "The tec"
   ]
  },
  {
   "cell_type": "markdown",
   "id": "b98ebf74-ae69-41a5-91bf-65279e18973b",
   "metadata": {},
   "source": []
  },
  {
   "cell_type": "markdown",
   "id": "d9c0cad1-4f2f-411e-b71a-b285628657df",
   "metadata": {},
   "source": []
  },
  {
   "cell_type": "markdown",
   "id": "a4234fc1-ea8b-4c55-9c5e-12e7ef6cd333",
   "metadata": {},
   "source": []
  },
  {
   "cell_type": "markdown",
   "id": "b94bff15-36f3-43a1-b87e-791a411280f3",
   "metadata": {},
   "source": []
  },
  {
   "cell_type": "markdown",
   "id": "2719407a-f213-49ee-9a75-9d279589993c",
   "metadata": {},
   "source": []
  },
  {
   "cell_type": "markdown",
   "id": "d48e155f-d034-4023-823b-f9ae4e45fe69",
   "metadata": {},
   "source": [
    "\n"
   ]
  }
 ],
 "metadata": {
  "kernelspec": {
   "display_name": "Python 3 (ipykernel)",
   "language": "python",
   "name": "python3"
  },
  "language_info": {
   "codemirror_mode": {
    "name": "ipython",
    "version": 3
   },
   "file_extension": ".py",
   "mimetype": "text/x-python",
   "name": "python",
   "nbconvert_exporter": "python",
   "pygments_lexer": "ipython3",
   "version": "3.11.8"
  },
  "toc-autonumbering": true,
  "toc-showcode": false,
  "toc-showmarkdowntxt": true,
  "toc-showtags": false,
  "widgets": {
   "application/vnd.jupyter.widget-state+json": {
    "state": {},
    "version_major": 2,
    "version_minor": 0
   }
  }
 },
 "nbformat": 4,
 "nbformat_minor": 5
}
