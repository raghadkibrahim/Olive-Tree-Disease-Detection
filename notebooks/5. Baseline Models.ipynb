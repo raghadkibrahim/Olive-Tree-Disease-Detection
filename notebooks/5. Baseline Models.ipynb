{
 "cells": [
  {
   "attachments": {},
   "cell_type": "markdown",
   "id": "893bf428-aad4-4881-9e85-ce5c94ddd4c5",
   "metadata": {},
   "source": [
    "<hr>\n",
    "\n",
    "*PART II: Data Analysis* \n",
    "\n",
    "<a id='model_eval'></a>\n",
    "# Baseline Models and Evaluation\n",
    "\n",
    "A baseline model is developed here to set a benchmark for classification performance. The evaluation framework focused on accuracy, precision, recall, and F1 score metrics to assess the model's effectiveness in correctly classifying the leaf images. Initial results indicated promising classification capabilities, with specific attention paid to minimizing false negatives to avoid missed detections of diseased or infested leaves.\n"
   ]
  },
  {
   "cell_type": "markdown",
   "id": "f1af5338-8f34-4064-a40f-2f74cd5ab1c0",
   "metadata": {},
   "source": [
    "### Import Libraries"
   ]
  },
  {
   "cell_type": "code",
   "execution_count": 2,
   "id": "f8732a29-3840-4911-a6f2-a0b1e6c07169",
   "metadata": {
    "editable": true,
    "slideshow": {
     "slide_type": "slide"
    },
    "tags": []
   },
   "outputs": [],
   "source": [
    "## IMPORT LIBRARIES ##\n",
    "\n",
    "import numpy as np #numpy for \n",
    "\n",
    "import pandas as pd # pandas\n",
    "\n",
    "from matplotlib import pyplot as plt # matplot library\n",
    "import seaborn as sns"
   ]
  },
  {
   "cell_type": "code",
   "execution_count": 3,
   "id": "6daa6f2d-1813-42a8-8de6-3a50bd1c4151",
   "metadata": {},
   "outputs": [],
   "source": [
    "## IMPORT LIBRARIES ##\n",
    "\n",
    "import os  \n",
    "from matplotlib import image as mpimg\n",
    "from random import randint\n",
    "from PIL import Image\n",
    "from skimage import io, img_as_float, img_as_ubyte\n",
    "from skimage.io import imread, imshow\n",
    "import cv2\n",
    "from glob import glob\n",
    "from sklearn.decomposition import PCA\n",
    "import warnings \n",
    "warnings.filterwarnings('ignore')\n",
    "\n",
    "##########"
   ]
  },
  {
   "cell_type": "markdown",
   "id": "9b75b5a2-3d7f-42c8-b077-d0b48caf34e2",
   "metadata": {},
   "source": [
    "### Load dataset"
   ]
  },
  {
   "cell_type": "code",
   "execution_count": 4,
   "id": "c48aaad7-b28e-49a2-bd58-a6f2b83dc2a0",
   "metadata": {},
   "outputs": [],
   "source": [
    "## Load the image directories ##\n",
    "\n",
    "dir = '/Users/raghadibrahim/Desktop/Olive-Tree-Disease-Detection/dataset' # paste your folder directory\n",
    "\n",
    "# returns a list containing the names of the images in the `healthy` folder\n",
    "training_healthy_data= os.listdir(dir + '/training/healthy') # training dataset\n",
    "testing_healthy_data = os.listdir(dir + '/training/healthy') # testing dataset\n",
    "\n",
    "# returns a list containing the names of the images in the `aculus olearius` folder\n",
    "training_aculus_data= os.listdir(dir + '/training/aculus_olearius') # training dataset \n",
    "testing_aculus_data = os.listdir(dir + '/training/aculus_olearius') # testing dataset\n",
    "\n",
    "# returns a list containing the names of the images in the `peacock spot` folder\n",
    "training_peacock_data= os.listdir(dir + '/training/peacock_spot') # training dataset \n",
    "testing_peacock_data = os.listdir(dir + '/training/peacock_spot/') # testing dataset\n",
    "\n",
    "#all_data = [healthy_data, aculus_olearius_data, peacock_disease_data]"
   ]
  },
  {
   "cell_type": "markdown",
   "id": "d42e6afa-0ee3-463f-bca6-dcd0649b7a3e",
   "metadata": {},
   "source": [
    "Now that the dataset has been successfully loaded from the corresponding directories, we can proceed with the preprocessing stage. \n",
    "<br><br>"
   ]
  },
  {
   "cell_type": "markdown",
   "id": "01c598b7-dc2a-449b-b228-8af4d6165666",
   "metadata": {},
   "source": [
    "### Define Dictionaries"
   ]
  },
  {
   "cell_type": "code",
   "execution_count": 5,
   "id": "01011480-1c1b-4b67-a4f2-b7c37b736f52",
   "metadata": {},
   "outputs": [],
   "source": [
    "training_dir = {\n",
    "    'Healthy Leaves': os.path.join(dir, 'training/healthy'), # Path to the directory containing the Healthy Leaves dataset\n",
    "    'Aculus Olearius Leaves': os.path.join(dir, 'training/aculus_olearius'), # Path to the directory containing images with Aculus Olearius Leaves\n",
    "    'Peacock Spot Leaves': os.path.join(dir, 'training/peacock_spot') # Path to the directory containing images with Peacock Spot Leaves\n",
    "}\n",
    "\n",
    "testing_dir = {\n",
    "    'Healthy Leaves': os.path.join(dir, 'testing/healthy'), # Path to the directory containing the Healthy Leaves dataset\n",
    "    'Aculus Olearius Leaves': os.path.join(dir, 'testing/aculus_olearius'), # Path to the directory containing images with Aculus Olearius Leaves\n",
    "    'Peacock Spot Leaves': os.path.join(dir, 'testing/peacock_spot') # Path to the directory containing images with Peacock Spot Leaves\n",
    "}\n",
    "\n",
    "training_data = {\n",
    "    'Healthy Leaves': training_healthy_data, # Path to the directory containing the Healthy Leaves dataset\n",
    "    'Aculus Olearius Leaves': training_aculus_data, # Path to the directory containing images with Aculus Olearius Leaves\n",
    "    'Peacock Disease Leaves': training_peacock_data # Path to the directory containing images with Peacock Spot Leaves\n",
    "}\n",
    "\n",
    "testing_data = {\n",
    "    'Healthy Leaves': testing_healthy_data, # Path to the directory containing the Healthy Leaves dataset\n",
    "    'Aculus Olearius Leaves': testing_aculus_data, # Path to the directory containing images with Aculus Olearius Leaves\n",
    "    'Peacock Disease Leaves': testing_peacock_data # Path to the directory containing images with Peacock Spot Leaves\n",
    "}\n",
    "##########"
   ]
  },
  {
   "cell_type": "markdown",
   "id": "809e41bf-3239-4fd2-be56-86dfedd34a54",
   "metadata": {},
   "source": [
    "---"
   ]
  },
  {
   "cell_type": "markdown",
   "id": "9fe85eb5-bb20-4dad-901c-5486377c1b54",
   "metadata": {},
   "source": [
    "## Logistic Regression"
   ]
  },
  {
   "cell_type": "markdown",
   "id": "c54f9f8f-7e16-4cd3-8eea-ab532afadc48",
   "metadata": {},
   "source": [
    "(use more words to explain outline of what I'm doing)\n",
    "The first model we will build is a Logistic Regression model as seen below: "
   ]
  },
  {
   "cell_type": "markdown",
   "id": "12881bc9-33fd-4ac5-a1b3-51c000e515c5",
   "metadata": {},
   "source": [
    "### Import Libraries"
   ]
  },
  {
   "cell_type": "markdown",
   "id": "cfa4411c-003e-4eff-9c87-4168e69e9bfe",
   "metadata": {},
   "source": [
    "For a Logistic Regression model I will be importing the following libraries from `scikit-learn` library:"
   ]
  },
  {
   "cell_type": "code",
   "execution_count": 6,
   "id": "d34278c6-a150-426d-a537-180ac2d7cf9a",
   "metadata": {},
   "outputs": [],
   "source": [
    "# Import Libraries\n",
    "\n",
    "from sklearn.metrics import classification_report, ConfusionMatrixDisplay\n",
    "from sklearn.linear_model import LogisticRegression"
   ]
  },
  {
   "cell_type": "markdown",
   "id": "7a4fe24b-0d55-41bf-9894-ca9012760b95",
   "metadata": {},
   "source": [
    "### Instantiate and Fit the Model"
   ]
  },
  {
   "cell_type": "markdown",
   "id": "2db86681-880f-4b4f-a920-4c26269c4bab",
   "metadata": {},
   "source": [
    "STEP 1:\n",
    "Iterate through the different classes to :"
   ]
  },
  {
   "cell_type": "code",
   "execution_count": 21,
   "id": "c872d3ba-f37b-425d-8dfa-5b56e86177ce",
   "metadata": {},
   "outputs": [
    {
     "name": "stdout",
     "output_type": "stream",
     "text": [
      "Working on:  B-624.jpg807_144239.jpg\r"
     ]
    }
   ],
   "source": [
    "# HEALTHY \n",
    "# create empty list for the concatenated counts - big list\n",
    "\n",
    "healthy_big_list = []\n",
    "\n",
    "for i in training_healthy_data:\n",
    "    print(\"Working on: \", i, end=\"\\r\")\n",
    "    try:\n",
    "        img = mpimg.imread(dir + '/training/healthy/' + i)\n",
    "    except:\n",
    "        continue\n",
    "\n",
    "    # create empty list for the 3 counts\n",
    "    img_rgb = []\n",
    "    channels = [0,1,2]\n",
    "    \n",
    "    # loop through the 3 color channels\n",
    "    for  channel in channels:\n",
    "        \n",
    "        # get histogram and counts for the channel\n",
    "        counts, bins = np.histogram(img[:,:,channel].ravel(), bins = np.linspace(0, 255, 51))\n",
    "        \n",
    "        # put counts into the list\n",
    "        img_rgb.append(counts)\n",
    "        \n",
    "        # concat the 3 counts into a single array of length 150\n",
    "        large_counts = np.concatenate(img_rgb)\n",
    "    \n",
    "    # save the large array into the big list\n",
    "    healthy_big_list.append(large_counts)\n",
    "    \n",
    "# we get a large list with as many arrays as images, each array is length 150\n"
   ]
  },
  {
   "cell_type": "code",
   "execution_count": 22,
   "id": "840a55e8-201d-4c57-ba98-56a735556b39",
   "metadata": {},
   "outputs": [
    {
     "name": "stdout",
     "output_type": "stream",
     "text": [
      "Working on:  184.jpg.jpgulus_olearius.txt\r"
     ]
    }
   ],
   "source": [
    "# ACULUS OLEARIUS\n",
    "# create empty list for the concatenated counts - big list\n",
    "\n",
    "aculus_big_list = []\n",
    "\n",
    "for i in training_aculus_data:\n",
    "    print(\"Working on: \", i, end=\"\\r\")\n",
    "    try:\n",
    "        img = mpimg.imread(dir + '/training/aculus_olearius/' + i)\n",
    "    except:\n",
    "        continue\n",
    "\n",
    "    # create empty list for the 3 counts\n",
    "    img_rgb = []\n",
    "    channels = [0,1,2]\n",
    "    # loop through the 3 color channels\n",
    "    for  channel in channels:\n",
    "        # get histogram and counts for the channel\n",
    "        counts, bins = np.histogram(img[:,:,channel].ravel(), bins=np.linspace(0, 255, 51))\n",
    "        \n",
    "        # put counts into the list\n",
    "        img_rgb.append(counts)\n",
    "        \n",
    "        # concat the 3 counts into a single array of length 150\n",
    "        large_counts = np.concatenate(img_rgb)\n",
    "        \n",
    "    # save the large array into the big list\n",
    "    aculus_big_list.append(large_counts)\n",
    "    \n",
    "# we get a large list with as many arrays as images, each array is length 150\n"
   ]
  },
  {
   "cell_type": "code",
   "execution_count": 23,
   "id": "6ea39217-7fba-45ec-a126-e626da152b14",
   "metadata": {},
   "outputs": [
    {
     "name": "stdout",
     "output_type": "stream",
     "text": [
      "Working on:  IMG_20190806_151248.jpgpg\r"
     ]
    }
   ],
   "source": [
    "# PEACOCK DISEASE \n",
    "# create empty list for the concatenated counts - big list\n",
    "\n",
    "peacock_big_list = []\n",
    "\n",
    "for i in training_peacock_data:\n",
    "    print(\"Working on: \", i, end = \"\\r\")\n",
    "    try:\n",
    "        img = mpimg.imread(dir + '/training/peacock_spot/' + i)\n",
    "    except:\n",
    "        continue\n",
    "\n",
    "    # create empty list for the 3 counts\n",
    "    img_rgb = []\n",
    "    channels = [0,1,2]\n",
    "    # loop through the 3 color channels\n",
    "    for  channel in channels:\n",
    "        \n",
    "        # get histogram and counts for the channel\n",
    "        counts, bins = np.histogram(img[:,:,channel].ravel(), bins=np.linspace(0, 255, 51))\n",
    "        \n",
    "        # put counts into the list\n",
    "        img_rgb.append(counts)\n",
    "        \n",
    "        # concat the 3 counts into a single array of length 150\n",
    "        large_counts = np.concatenate(img_rgb)\n",
    "        \n",
    "    # save the large array into the big list\n",
    "    peacock_big_list.append(large_counts)\n",
    "    \n",
    "# we get a large list with as many arrays as images, each array is length 150\n"
   ]
  },
  {
   "cell_type": "markdown",
   "id": "9d0cf779-09f9-4e2d-b335-9eb1a4503a13",
   "metadata": {},
   "source": [
    "STEP 2: Now to join the large array:"
   ]
  },
  {
   "cell_type": "code",
   "execution_count": 24,
   "id": "9026c487-d9c4-4b99-b7b0-fe157f761d39",
   "metadata": {},
   "outputs": [],
   "source": [
    "# JOIN THE LARGE ARRAY\n",
    "\n",
    "healthy_hist = np.stack(healthy_big_list)\n",
    "healthy_label = np.full(healthy_hist.shape[0], 0)\n",
    "\n",
    "aculus_olearius_hist = np.stack(aculus_big_list)\n",
    "aculus_olearius_label = np.full(aculus_olearius_hist.shape[0], 1)\n",
    "\n",
    "peacock_disease_hist = np.stack(peacock_big_list)\n",
    "peacock_disease_label = np.full(peacock_disease_hist.shape[0], 2)\n"
   ]
  },
  {
   "cell_type": "code",
   "execution_count": 25,
   "id": "cf35f130-2aea-442c-ba2f-1bf080d707df",
   "metadata": {},
   "outputs": [
    {
     "data": {
      "text/plain": [
       "(830,)"
      ]
     },
     "metadata": {},
     "output_type": "display_data"
    },
    {
     "data": {
      "text/plain": [
       "(690, 150)"
      ]
     },
     "metadata": {},
     "output_type": "display_data"
    },
    {
     "data": {
      "text/plain": [
       "(1200, 150)"
      ]
     },
     "metadata": {},
     "output_type": "display_data"
    }
   ],
   "source": [
    "# SANITY CHECK\n",
    "\n",
    "display(healthy_label.shape, aculus_olearius_hist.shape, peacock_disease_hist.shape)"
   ]
  },
  {
   "cell_type": "code",
   "execution_count": 26,
   "id": "b55f1a7d-4bbb-4758-a99e-a23ac354a941",
   "metadata": {},
   "outputs": [
    {
     "data": {
      "text/plain": [
       "((2720, 150), (2720,))"
      ]
     },
     "execution_count": 26,
     "metadata": {},
     "output_type": "execute_result"
    }
   ],
   "source": [
    "# Concatenate \n",
    "\n",
    "x = np.concatenate([healthy_hist, aculus_olearius_hist, peacock_disease_hist])\n",
    "y = np.concatenate([healthy_label,aculus_olearius_label,peacock_disease_label])\n",
    "\n",
    "\n",
    "# SANITY CHECK\n",
    "x.shape,y.shape"
   ]
  },
  {
   "cell_type": "code",
   "execution_count": 27,
   "id": "6c71f6af-2a5d-4a97-933a-b8a593700a63",
   "metadata": {},
   "outputs": [
    {
     "data": {
      "text/html": [
       "<style>#sk-container-id-2 {color: black;}#sk-container-id-2 pre{padding: 0;}#sk-container-id-2 div.sk-toggleable {background-color: white;}#sk-container-id-2 label.sk-toggleable__label {cursor: pointer;display: block;width: 100%;margin-bottom: 0;padding: 0.3em;box-sizing: border-box;text-align: center;}#sk-container-id-2 label.sk-toggleable__label-arrow:before {content: \"▸\";float: left;margin-right: 0.25em;color: #696969;}#sk-container-id-2 label.sk-toggleable__label-arrow:hover:before {color: black;}#sk-container-id-2 div.sk-estimator:hover label.sk-toggleable__label-arrow:before {color: black;}#sk-container-id-2 div.sk-toggleable__content {max-height: 0;max-width: 0;overflow: hidden;text-align: left;background-color: #f0f8ff;}#sk-container-id-2 div.sk-toggleable__content pre {margin: 0.2em;color: black;border-radius: 0.25em;background-color: #f0f8ff;}#sk-container-id-2 input.sk-toggleable__control:checked~div.sk-toggleable__content {max-height: 200px;max-width: 100%;overflow: auto;}#sk-container-id-2 input.sk-toggleable__control:checked~label.sk-toggleable__label-arrow:before {content: \"▾\";}#sk-container-id-2 div.sk-estimator input.sk-toggleable__control:checked~label.sk-toggleable__label {background-color: #d4ebff;}#sk-container-id-2 div.sk-label input.sk-toggleable__control:checked~label.sk-toggleable__label {background-color: #d4ebff;}#sk-container-id-2 input.sk-hidden--visually {border: 0;clip: rect(1px 1px 1px 1px);clip: rect(1px, 1px, 1px, 1px);height: 1px;margin: -1px;overflow: hidden;padding: 0;position: absolute;width: 1px;}#sk-container-id-2 div.sk-estimator {font-family: monospace;background-color: #f0f8ff;border: 1px dotted black;border-radius: 0.25em;box-sizing: border-box;margin-bottom: 0.5em;}#sk-container-id-2 div.sk-estimator:hover {background-color: #d4ebff;}#sk-container-id-2 div.sk-parallel-item::after {content: \"\";width: 100%;border-bottom: 1px solid gray;flex-grow: 1;}#sk-container-id-2 div.sk-label:hover label.sk-toggleable__label {background-color: #d4ebff;}#sk-container-id-2 div.sk-serial::before {content: \"\";position: absolute;border-left: 1px solid gray;box-sizing: border-box;top: 0;bottom: 0;left: 50%;z-index: 0;}#sk-container-id-2 div.sk-serial {display: flex;flex-direction: column;align-items: center;background-color: white;padding-right: 0.2em;padding-left: 0.2em;position: relative;}#sk-container-id-2 div.sk-item {position: relative;z-index: 1;}#sk-container-id-2 div.sk-parallel {display: flex;align-items: stretch;justify-content: center;background-color: white;position: relative;}#sk-container-id-2 div.sk-item::before, #sk-container-id-2 div.sk-parallel-item::before {content: \"\";position: absolute;border-left: 1px solid gray;box-sizing: border-box;top: 0;bottom: 0;left: 50%;z-index: -1;}#sk-container-id-2 div.sk-parallel-item {display: flex;flex-direction: column;z-index: 1;position: relative;background-color: white;}#sk-container-id-2 div.sk-parallel-item:first-child::after {align-self: flex-end;width: 50%;}#sk-container-id-2 div.sk-parallel-item:last-child::after {align-self: flex-start;width: 50%;}#sk-container-id-2 div.sk-parallel-item:only-child::after {width: 0;}#sk-container-id-2 div.sk-dashed-wrapped {border: 1px dashed gray;margin: 0 0.4em 0.5em 0.4em;box-sizing: border-box;padding-bottom: 0.4em;background-color: white;}#sk-container-id-2 div.sk-label label {font-family: monospace;font-weight: bold;display: inline-block;line-height: 1.2em;}#sk-container-id-2 div.sk-label-container {text-align: center;}#sk-container-id-2 div.sk-container {/* jupyter's `normalize.less` sets `[hidden] { display: none; }` but bootstrap.min.css set `[hidden] { display: none !important; }` so we also need the `!important` here to be able to override the default hidden behavior on the sphinx rendered scikit-learn.org. See: https://github.com/scikit-learn/scikit-learn/issues/21755 */display: inline-block !important;position: relative;}#sk-container-id-2 div.sk-text-repr-fallback {display: none;}</style><div id=\"sk-container-id-2\" class=\"sk-top-container\"><div class=\"sk-text-repr-fallback\"><pre>LogisticRegression()</pre><b>In a Jupyter environment, please rerun this cell to show the HTML representation or trust the notebook. <br />On GitHub, the HTML representation is unable to render, please try loading this page with nbviewer.org.</b></div><div class=\"sk-container\" hidden><div class=\"sk-item\"><div class=\"sk-estimator sk-toggleable\"><input class=\"sk-toggleable__control sk-hidden--visually\" id=\"sk-estimator-id-2\" type=\"checkbox\" checked><label for=\"sk-estimator-id-2\" class=\"sk-toggleable__label sk-toggleable__label-arrow\">LogisticRegression</label><div class=\"sk-toggleable__content\"><pre>LogisticRegression()</pre></div></div></div></div></div>"
      ],
      "text/plain": [
       "LogisticRegression()"
      ]
     },
     "execution_count": 27,
     "metadata": {},
     "output_type": "execute_result"
    }
   ],
   "source": [
    "# Logistic Regression\n",
    "\n",
    "model = LogisticRegression()\n",
    "model.fit(x,y)"
   ]
  },
  {
   "cell_type": "markdown",
   "id": "8d6ddd9e-b859-4921-88b5-d836cf44d004",
   "metadata": {},
   "source": [
    "#### Model Evaluation"
   ]
  },
  {
   "cell_type": "code",
   "execution_count": 28,
   "id": "8dac09c4-b754-4f73-8b4f-4d002c37846f",
   "metadata": {},
   "outputs": [
    {
     "name": "stdout",
     "output_type": "stream",
     "text": [
      "              precision    recall  f1-score   support\n",
      "\n",
      "           0       0.78      0.73      0.75       830\n",
      "           1       0.70      0.66      0.68       690\n",
      "           2       0.79      0.85      0.82      1200\n",
      "\n",
      "    accuracy                           0.77      2720\n",
      "   macro avg       0.76      0.75      0.75      2720\n",
      "weighted avg       0.76      0.77      0.76      2720\n",
      "\n"
     ]
    }
   ],
   "source": [
    "# Classification Report\n",
    "\n",
    "report_initial = classification_report(y, model.predict(x))\n",
    "print(report_initial)"
   ]
  },
  {
   "cell_type": "markdown",
   "id": "90278436-9b86-48a3-9238-534a89e7f191",
   "metadata": {},
   "source": [
    "The overall accuracy of the model is 0.77, meaning we correctly predicted the class 77% of the time across all instances.  \n",
    "\n",
    "**Precision:**\n",
    "- Class 0: Precision is 0.78, meaning that 78% of instances predicted as class 0 are actually class 0.  \n",
    "- Class 1: Precision is 0.70, meaning that 70% of instances predicted as class 1 are actually class 1.  \n",
    "- Class 2: Precision is 0.79, indicating that 79% of instances predicted as class 2 are actually class 2.  \n",
    "\n",
    "**Recall:**  \n",
    "- Class 0: Recall is 0.73, indicating that 73% of actual class 0 instances were correctly predicted by the model.   \n",
    "- Class 1: Recall is 0.66, meaning the model correctly predicted 66% of all actual class 1 instances.  \n",
    "- Class 2: Recall is 0.85, meaning 85% of all actual class 2 instances were correctly predicted, showing higher sensitivity for this class compared to others.\n",
    "\n",
    "**F1-Score:**  \n",
    "- Class 0: F1-score is 0.75, which is a balance between precision and recall for class 0.  \n",
    "- Class 1: F1-score is 0.68, slightly lower, reflecting the trade-off between precision and recall.  \n",
    "- Class 2: F1-score is 0.82, the highest among the three, suggesting a good balance between precision and recall for this class.  \n"
   ]
  },
  {
   "cell_type": "markdown",
   "id": "7be2059e-6061-4a36-8292-d05487108ab9",
   "metadata": {},
   "source": [
    "This model achieves an accuracy of 76.6%!"
   ]
  },
  {
   "cell_type": "code",
   "execution_count": 29,
   "id": "1c3932de-0fb8-4ec6-bfc8-ddf246605544",
   "metadata": {},
   "outputs": [
    {
     "data": {
      "text/plain": [
       "<sklearn.metrics._plot.confusion_matrix.ConfusionMatrixDisplay at 0x31b860710>"
      ]
     },
     "execution_count": 29,
     "metadata": {},
     "output_type": "execute_result"
    },
    {
     "data": {
      "image/png": "[encoded data removed]",
      "text/plain": [
       "<Figure size 640x480 with 2 Axes>"
      ]
     },
     "metadata": {},
     "output_type": "display_data"
    }
   ],
   "source": [
    "# Confusion Matrix\n",
    "\n",
    "ConfusionMatrixDisplay.from_estimator(model, x, y)"
   ]
  },
  {
   "cell_type": "markdown",
   "id": "3a35c4ad-37df-484a-8d57-352b724aaafa",
   "metadata": {},
   "source": [
    "The confusion matrix shows us how many images from each classes were predicted correctly or incorrectly. We can see that this model performed pretty well in classifying the first and third classes but not as well in classifying leaves with aculus olearius which it mostly classified incorrectly as being healthy. This is expected because as we saw in the pre-processing stage the leaves with aculus olearius look a lot like healthy leaves."
   ]
  },
  {
   "cell_type": "markdown",
   "id": "07183bf5-31e8-4386-be51-d99665aa3647",
   "metadata": {},
   "source": [
    "These metrics provide a detailed insight into our model's performance, highlighting strengths such as good recall in class 2 and areas for improvement such as increasing the recall for class 1. "
   ]
  },
  {
   "cell_type": "markdown",
   "id": "3c2c6255-a84f-4fa1-91f1-ee66890fe88b",
   "metadata": {},
   "source": []
  }
 ],
 "metadata": {
  "kernelspec": {
   "display_name": "Python 3 (ipykernel)",
   "language": "python",
   "name": "python3"
  },
  "language_info": {
   "codemirror_mode": {
    "name": "ipython",
    "version": 3
   },
   "file_extension": ".py",
   "mimetype": "text/x-python",
   "name": "python",
   "nbconvert_exporter": "python",
   "pygments_lexer": "ipython3",
   "version": "3.11.8"
  },
  "toc-autonumbering": true,
  "toc-showcode": false,
  "toc-showmarkdowntxt": true,
  "toc-showtags": false,
  "widgets": {
   "application/vnd.jupyter.widget-state+json": {
    "state": {},
    "version_major": 2,
    "version_minor": 0
   }
  }
 },
 "nbformat": 4,
 "nbformat_minor": 5
}
