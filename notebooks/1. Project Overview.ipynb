{
 "cells": [
  {
   "cell_type": "markdown",
   "id": "d2a7b7b6-48b8-440d-a7bb-0898cd28f741",
   "metadata": {
    "tags": []
   },
   "source": [
    "<h1 style=\"font-size:160%; text-align:center;\">OLIVE TREE DISEASE DETECTION</h1>\n",
    "\n",
    "<HR WIDTH=\"40%\" ALIGN=CENTER>\n",
    "\n",
    "<center><b>Author:</b> Raghad Ibrahim <br>\n",
    "<b>Date:</b> April 2, 2024 <br>\n",
    "<b>Topic:</b> Olive Trees Disease Diagnostics  </center>\n",
    "    <HR WIDTH=\"40%\" ALIGN=CENTER>\n",
    "\n",
    "<center><b>Abstract</b></center><br>\n",
    "\n",
    " The Olive Tree, an ancient symbol of peace and endurance, holds significant cultural and agricultural importance across the Mediterranean region and beyond. The production of olive oil is facing a significant threat nowadays due to climate change and the spread of diseases. This project explores the application of computer vision techniques for the analysis and classification of leaf images to identify potential diseases or health issues. The dataset used in this paper consists of images of leaves from three classes: healthy leaves, leaves infected with Aculus Olearius disease, and leaves affected by Peacock Spot disease. The goal is to develop an image classification model capable of accurately distinguishing between these classes based on features extracted from the images. Overall, this project aims to contribute to the field of agricultural diagnostics by providing a reliable tool for automated detection and classification of leaf diseases.\n",
    "\n"
   ]
  },
  {
   "attachments": {},
   "cell_type": "markdown",
   "id": "4784176e-6d70-40b3-87f0-2387ccde0cc5",
   "metadata": {},
   "source": [
    "<hr>\n",
    "\n",
    "*PART I: Project Overview* \n",
    "<a id='intro'></a>\n",
    "## Introduction\n",
    "\n",
    "<p  style=\"text-indent: 25px;\">  Olive trees are suseptible to getting sick with some diseases that could affect a tree's health and its ability to produce olives, which makes it very important for farmers to be able to catch these conditions early on to address them before harvesting season.  These conditions include diseases like Aculus Olearius which is caused by mites and causes leaf discoloration, as well as Peacock Spot Disease which causes dark spots on an olive leaf. More details about the symptoms and causes of these two diseases will be provided in the next section.</p>\n",
    "\n",
    "<p  style=\"text-indent: 25px;\">  Most farmers rely on traditional techniques, such as visual observation, or biological tests and fungal analysis, to detect these diseases. However, these methods require significant expertise and resources, including time. Hence, increasing the efficiency of the process of detecting and diagnosing olive trees becomes imperative to save as many trees as possible. The potential for improving disease diagnostics lies in developing effective alternatives to traditional plant disease identification methods, including those for olive trees. We can utilize technological advancements in machine learning and deep learning to facilitate precise disease identification through data and image analysis.</p>\n",
    "\n"
   ]
  },
  {
   "cell_type": "markdown",
   "id": "4ae2bbe6-a239-41de-8723-9145b551ef5d",
   "metadata": {},
   "source": [
    "<a id='1.1'></a>\n",
    "### Background Information\n",
    "\n",
    "Aculus Olearius is a disease caused by Aceria Oleae, a mite that belongs to eriophyid mites. This barely visible mite is a worm-like mite with circular cross section which dimensions are in the micrometers range, yet its microscopic size doesn't stop it from inflicting great harm to olive trees as it is the main pest found in olive trees in the Mediterranean region. Cases of this condition were reported in Palestine, Egypt, Tunisia, and Turkey. The mite feeds on the growing points in the leaves, thus causing deformations in the way a leaf grows. Therefore younger trees tend to be more vulnerable to these brutal attacks. The pest may even kill the productive center for the plant significantly inhibiting its growth. \n",
    "\n",
    "Peacock Spot Disease is another common fungal disease that affects olive trees. It is caused by the fungus Spilocaea oleagina, but took its named from its distinctive peacock feather-like spots that appear on the leaves of an infected tree. These spots are usually dark, circular, and have a yellow halo around them, making them quite noticeable against the green of the olive leaves. These can lead to premature leaf drop, weakening the tree over time. With the tree being infected, its ability to photosynthesize is practically diminished inhibiting its ability to grow fruits and can spread quickly to other trees.\n",
    "\n",
    "In both cases we can see why an early diagnosis is ablsolutely crucial to a farmer. \n"
   ]
  },
  {
   "cell_type": "markdown",
   "id": "74c4d084-a69c-47bf-999c-66c161fe215b",
   "metadata": {},
   "source": [
    "<a id='2.2'></a>\n",
    "### Dataset\n",
    "\n",
    "For this project I have used a public dataset to build a model that can detect various diseases in Olive leaves. The dataset consists of over 3,400 \n",
    "images of olive leaves collected from Denizli City, Turkey. The images are classified into the following classes:  \n",
    "\n",
    "- Olive Leaves infected with Aculus Olearius.\n",
    "- Olive Leaves infected with Peacock Spot.\n",
    "- Healthy Olive Leaves."
   ]
  },
  {
   "cell_type": "markdown",
   "id": "8f03ecd8-4ea7-4c77-959c-2e23b7d8e429",
   "metadata": {},
   "source": [
    "We will start off by importing some basic data analysis libraries such as Pandas, Numpy, Matplotlib, and Seaborn. "
   ]
  },
  {
   "cell_type": "markdown",
   "id": "36589ae1-8cc8-4d5a-81a8-310b1d8740d1",
   "metadata": {},
   "source": [
    "We will also be importing some more libraries specific to images."
   ]
  },
  {
   "cell_type": "code",
   "execution_count": 1,
   "id": "f8732a29-3840-4911-a6f2-a0b1e6c07169",
   "metadata": {
    "editable": true,
    "slideshow": {
     "slide_type": "slide"
    },
    "tags": []
   },
   "outputs": [],
   "source": [
    "## IMPORT LIBRARIES ##\n",
    "\n",
    "import numpy as np #numpy for \n",
    "import pandas as pd # pandas\n",
    "from matplotlib import pyplot as plt # matplot library\n",
    "import seaborn as sns"
   ]
  },
  {
   "cell_type": "markdown",
   "id": "8bce583a-f6e4-4099-8f22-13357a14c84d",
   "metadata": {},
   "source": [
    "###  Image Basics"
   ]
  },
  {
   "cell_type": "markdown",
   "id": "7f665ae0-0b44-4cc5-831f-bbac509476e5",
   "metadata": {},
   "source": [
    "#### Pixels\n",
    "In digital imaging, every image is composed of a matrix of pixels, each representing the smallest unit of the image. For instance, an image with dimensions of 6x6 is constructed from 36 individual pixels, arranged in a grid of 6 pixels vertically and 6 pixels horizontally. Each pixel is essentially as a tiny square with a specific color, contributing to the overall image when viewed collectively."
   ]
  },
  {
   "cell_type": "code",
   "execution_count": 29,
   "id": "8fde900f-630e-4ce3-b996-b4c4612f7c80",
   "metadata": {},
   "outputs": [
    {
     "data": {
      "image/png": "[encoded data removed]",
      "text/plain": [
       "<Figure size 640x480 with 1 Axes>"
      ]
     },
     "metadata": {},
     "output_type": "display_data"
    }
   ],
   "source": [
    "# Setting up the figure and axis\n",
    "fig, ax = plt.subplots()(1,1,r,g,b)\n",
    "ax.set_xlim(0, 6)\n",
    "ax.set_ylim(0, 6)\n",
    "ax.set_xticks(np.arange(0, 7, 1))\n",
    "ax.set_yticks(np.arange(0, 7, 1))\n",
    "ax.set_xticklabels([])\n",
    "ax.set_yticklabels([])\n",
    "ax.grid(True)\n",
    "\n",
    "# Create the image as a 6x6 grid of random grayscale values\n",
    "image = np.random.randint(0, 255, (6, 6), dtype = np.uint8)\n",
    "\n",
    "# Create an image plot\n",
    "image_map = ax.imshow(image, cmap = 'gray', extent = (0, 6, 0, 6), origin='upper', interpolation='none')\n",
    "\n",
    "plt.show()\n",
    "    "
   ]
  },
  {
   "cell_type": "markdown",
   "id": "64e91dcf-f840-4607-ae5b-676e7be1ca4e",
   "metadata": {},
   "source": [
    "### Color Composotion"
   ]
  },
  {
   "cell_type": "markdown",
   "id": "5bfa715b-277e-49cd-a8e4-fc2c7aa9f6ca",
   "metadata": {},
   "source": [
    "#### Grayscale"
   ]
  },
  {
   "cell_type": "code",
   "execution_count": 4,
   "id": "eba09311-dd44-4357-b7a1-15bb18746ee4",
   "metadata": {},
   "outputs": [
    {
     "data": {
      "image/png": "[encoded data removed]",
      "text/plain": [
       "<Figure size 640x480 with 1 Axes>"
      ]
     },
     "metadata": {},
     "output_type": "display_data"
    }
   ],
   "source": [
    "# Setting up the figure and axis\n",
    "fig, ax = plt.subplots()\n",
    "ax.set_xlim(0, 6)\n",
    "ax.set_ylim(0, 6)\n",
    "ax.set_xticks(np.arange(0, 7, 1))\n",
    "ax.set_yticks(np.arange(0, 7, 1))\n",
    "\n",
    "ax.grid(True)\n",
    "\n",
    "# Create the image as a 6x6 grid of random grayscale values\n",
    "image = np.random.randint(0, 255, (6, 6), dtype=np.uint8)\n",
    "\n",
    "# Create an image plot\n",
    "image_map = ax.imshow(image, cmap='gray', extent=(0, 6, 0, 6), origin='upper', interpolation='none')\n",
    "\n",
    "# Annotate each cell with the corresponding grayscale value\n",
    "for (j, i), val in np.ndenumerate(image):\n",
    "    ax.text(i + 0.5, 5.5 - j, str(val), ha='center', va='center', color='white' if val < 128 else 'black', fontsize=8)\n",
    "\n",
    "plt.show()\n"
   ]
  },
  {
   "attachments": {},
   "cell_type": "markdown",
   "id": "c1efa614-af7b-4bab-8fa3-fad01897b7a7",
   "metadata": {},
   "source": [
    "#### RGB Channels\n",
    "\n",
    "The diversity of colors displayed by these pixels can be described by the RGB Color Model, which is the foundational principle in representing digital images. The RGB Color Model operates on the premise that any visible color is just a precise combination of varying intensities (0 to 255) of red, green, and blue light. Here, a value of 0 denotes the absence of light, resulting in complete darkness, whereas a value of 255 represents the maximum brightness of the color. By adjusting the intensity levels of these three primary colors, the RGB model can generate a wide spectrum of colors, enabling digital devices to reproduce nearly any color perceivable by the human eye.\n",
    "\n",
    "In a digital image, each pixel is assigned a single color, which by the RGB model can be broken down into a precise combination of Red, Green, and Blue. In other words, every pixel, which we consider the row value has three features that can be used as columns. This way we can view each image as a unique dataset whose rows represent the individual pixels and columns represent the unique color combination consisting of the various intensities of Red, Green. amd Blue.."
   ]
  },
  {
   "cell_type": "markdown",
   "id": "b5837591-bc1c-478f-a6db-b1ca4897f33c",
   "metadata": {},
   "source": [
    "### Machine Learning with images"
   ]
  },
  {
   "cell_type": "markdown",
   "id": "d48e155f-d034-4023-823b-f9ae4e45fe69",
   "metadata": {},
   "source": [
    "### Convolution\n"
   ]
  },
  {
   "cell_type": "markdown",
   "id": "6a078fce-5503-4f34-8272-0c6033cdfe44",
   "metadata": {},
   "source": [
    "### Deep Neural Networks"
   ]
  },
  {
   "cell_type": "markdown",
   "id": "d4b24138-97fb-40af-b99b-791d2cd3d08d",
   "metadata": {},
   "source": [
    "### "
   ]
  },
  {
   "cell_type": "markdown",
   "id": "e9ae09ef-8886-4d83-ae89-4961663aa643",
   "metadata": {},
   "source": []
  },
  {
   "cell_type": "markdown",
   "id": "73276908-2330-4955-8260-a5ead72ccd8a",
   "metadata": {},
   "source": []
  },
  {
   "cell_type": "markdown",
   "id": "dd488c42-36a8-406f-bfb9-dde24931741f",
   "metadata": {},
   "source": []
  }
 ],
 "metadata": {
  "kernelspec": {
   "display_name": "Python 3 (ipykernel)",
   "language": "python",
   "name": "python3"
  },
  "language_info": {
   "codemirror_mode": {
    "name": "ipython",
    "version": 3
   },
   "file_extension": ".py",
   "mimetype": "text/x-python",
   "name": "python",
   "nbconvert_exporter": "python",
   "pygments_lexer": "ipython3",
   "version": "3.11.8"
  },
  "toc-autonumbering": true,
  "toc-showcode": false,
  "toc-showmarkdowntxt": true,
  "toc-showtags": false,
  "widgets": {
   "application/vnd.jupyter.widget-state+json": {
    "state": {},
    "version_major": 2,
    "version_minor": 0
   }
  }
 },
 "nbformat": 4,
 "nbformat_minor": 5
}
